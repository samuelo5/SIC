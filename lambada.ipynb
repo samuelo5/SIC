{
 "cells": [
  {
   "cell_type": "code",
   "execution_count": 3,
   "id": "c2f076a9-b79b-4af1-9b0c-7d7b52f81be2",
   "metadata": {},
   "outputs": [
    {
     "name": "stdin",
     "output_type": "stream",
     "text": [
      "Distinguish year, month and date by .(e.g. 1917.6.10) :  1927.9.10\n"
     ]
    },
    {
     "name": "stdout",
     "output_type": "stream",
     "text": [
      "This is the publication date of a Sherlock Holmes series\n"
     ]
    }
   ],
   "source": [
    "def valid_date(date):\n",
    "    days = [31, 29, 31, 30, 31, 30, 31, 31, 30, 31, 30, 31]\n",
    "    sherlock_series = [1887, 1890,1892, 1894, 1901, 1905, 1915, 1917, 1927]\n",
    "    splitted = date.split('.')\n",
    "    year = int(splitted[0])\n",
    "    month = int(splitted[1])\n",
    "    day = int(splitted[2])\n",
    "    is_sherlock_book_yr = lambda x: x in sherlock_series\n",
    "\n",
    "    if not is_sherlock_book_yr(year):\n",
    "        print('This is not a publication year of the Sherlock Holmes series.')\n",
    "        return False\n",
    "    if month < 1 or month > 12:\n",
    "        print('The month is incorrect')\n",
    "        return False\n",
    "    if day < 1 or day > days[month-1]:\n",
    "        print('The date is incorrect')\n",
    "        return False\n",
    "\n",
    "    return True\n",
    "\n",
    "date = input('Distinguish year, month and date by .(e.g. 1917.6.10) : ')\n",
    "if valid_date(date) == True:\n",
    "    print('This is the publication date of a Sherlock Holmes series')\n",
    "else:\n",
    "    print('This is not the publication date of a Sherlock Holmes series or the input has an error')"
   ]
  },
  {
   "cell_type": "code",
   "execution_count": 6,
   "id": "84024120-c8ad-4db4-af66-e84903904a08",
   "metadata": {},
   "outputs": [
    {
     "name": "stdout",
     "output_type": "stream",
     "text": [
      "sum of 100 and 200 : 300\n"
     ]
    }
   ],
   "source": [
    "def add(x, y):\n",
    "    return x + y\n",
    "\n",
    "print('sum of 100 and 200 :', add(100, 200))"
   ]
  },
  {
   "cell_type": "code",
   "execution_count": 7,
   "id": "9143374e-f3d4-4207-ae62-493a24b54c3c",
   "metadata": {},
   "outputs": [
    {
     "name": "stdout",
     "output_type": "stream",
     "text": [
      "sum of 100 and 200 : 300\n"
     ]
    }
   ],
   "source": [
    "add = lambda x,y : x + y\n",
    "print('sum of 100 and 200 :', add(100, 200))"
   ]
  },
  {
   "cell_type": "code",
   "execution_count": 8,
   "id": "b6c11fb9-641d-451a-b243-32b3923743a2",
   "metadata": {},
   "outputs": [
    {
     "name": "stdout",
     "output_type": "stream",
     "text": [
      "sum of 100 and 200 : 300\n"
     ]
    }
   ],
   "source": [
    "print('sum of 100 and 200 :', (lambda x,y : x + y)(100, 200))"
   ]
  },
  {
   "cell_type": "code",
   "execution_count": 10,
   "id": "56343917-877a-4788-aa49-f4ec4270ea21",
   "metadata": {},
   "outputs": [
    {
     "name": "stdout",
     "output_type": "stream",
     "text": [
      "[1, 4, 9, 16, 25, 36, 49]\n"
     ]
    }
   ],
   "source": [
    "a = [1, 2, 3, 4, 5, 6, 7]\n",
    "square_a = list(map(lambda x: x**2, a))\n",
    "print(square_a)"
   ]
  },
  {
   "cell_type": "code",
   "execution_count": 17,
   "id": "054d039e-bfd7-4597-bbd7-a2428331a446",
   "metadata": {},
   "outputs": [
    {
     "name": "stdout",
     "output_type": "stream",
     "text": [
      "adult list :\n",
      "34 56 89 20 "
     ]
    }
   ],
   "source": [
    "def adult_func(n):\n",
    "    if n >= 19:\n",
    "        return True\n",
    "    else:\n",
    "        return False\n",
    "\n",
    "ages = [34, 56, 18, 14, 89, 20, 13]\n",
    "print('adult list :')\n",
    "for a in filter(adult_func, ages):\n",
    "    print(a, end = ' ')"
   ]
  },
  {
   "cell_type": "code",
   "execution_count": 23,
   "id": "dfbb5826-f23e-49c0-8a6f-271c6d26348d",
   "metadata": {},
   "outputs": [
    {
     "name": "stdout",
     "output_type": "stream",
     "text": [
      "adult list :\n",
      "34 56 89 20 "
     ]
    }
   ],
   "source": [
    "ages = [34, 56, 18, 14, 89, 20, 13]\n",
    "print('adult list :')\n",
    "for a in filter(lambda x: x >= 19, ages):\n",
    "    print(a, end = ' ')"
   ]
  },
  {
   "cell_type": "code",
   "execution_count": 24,
   "id": "69c2bb4b-eb23-4c28-bb12-2c282ef9eacb",
   "metadata": {},
   "outputs": [
    {
     "name": "stdout",
     "output_type": "stream",
     "text": [
      "[1, 4, 9, 16, 25, 36, 49]\n"
     ]
    }
   ],
   "source": [
    "a = [1, 2, 3, 4, 5, 6, 7]\n",
    "square_a = []\n",
    "for n in a:\n",
    "    square_a.append(n**2)\n",
    "print(square_a)"
   ]
  },
  {
   "cell_type": "code",
   "execution_count": 27,
   "id": "512a47fb-226a-44a6-accd-ec652510f9c4",
   "metadata": {},
   "outputs": [
    {
     "name": "stdout",
     "output_type": "stream",
     "text": [
      "[1, 4, 9, 16, 25, 36, 49]\n"
     ]
    }
   ],
   "source": [
    "def square(x):\n",
    "    return x ** 2\n",
    "a = [1, 2, 3, 4, 5, 6, 7]\n",
    "square_a = list(map(square, a))\n",
    "print(square_a)"
   ]
  },
  {
   "cell_type": "code",
   "execution_count": 28,
   "id": "2888c0fd-771a-47a6-bc60-2155eeb30698",
   "metadata": {},
   "outputs": [
    {
     "name": "stdout",
     "output_type": "stream",
     "text": [
      "[1, 4, 9, 16, 25, 36, 49]\n"
     ]
    }
   ],
   "source": [
    "a = [1, 2, 3, 4, 5, 6, 7]\n",
    "square_a = list(map(lambda x: x**2, a))\n",
    "print(square_a)"
   ]
  },
  {
   "cell_type": "code",
   "execution_count": 29,
   "id": "12821de6-4054-440b-9766-348131f91045",
   "metadata": {},
   "outputs": [
    {
     "name": "stdout",
     "output_type": "stream",
     "text": [
      "[1, 8, 27, 64, 125, 216, 343]\n"
     ]
    }
   ],
   "source": [
    "a = [1, 2, 3, 4, 5, 6, 7]\n",
    "square_a = list(map(lambda x: x**3, a))\n",
    "print(square_a)"
   ]
  },
  {
   "cell_type": "code",
   "execution_count": 33,
   "id": "12b19911-46b0-4cd5-b4b2-2974dabdd7a2",
   "metadata": {},
   "outputs": [
    {
     "name": "stdout",
     "output_type": "stream",
     "text": [
      "10\n"
     ]
    }
   ],
   "source": [
    "from functools import reduce\n",
    "\n",
    "a = [1, 2, 3, 4]\n",
    "n = reduce(lambda x,y : x + y, a)\n",
    "print(n)"
   ]
  },
  {
   "cell_type": "code",
   "execution_count": null,
   "id": "210aa8bc-9064-4158-87ed-2b29e6cbad8e",
   "metadata": {},
   "outputs": [],
   "source": []
  }
 ],
 "metadata": {
  "kernelspec": {
   "display_name": "Python 3 (ipykernel)",
   "language": "python",
   "name": "python3"
  },
  "language_info": {
   "codemirror_mode": {
    "name": "ipython",
    "version": 3
   },
   "file_extension": ".py",
   "mimetype": "text/x-python",
   "name": "python",
   "nbconvert_exporter": "python",
   "pygments_lexer": "ipython3",
   "version": "3.11.7"
  }
 },
 "nbformat": 4,
 "nbformat_minor": 5
}
