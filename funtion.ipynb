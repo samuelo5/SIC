{
 "cells": [
  {
   "cell_type": "code",
   "execution_count": 4,
   "id": "e25228b8-2936-471f-981f-6c7bcf2419b2",
   "metadata": {},
   "outputs": [
    {
     "name": "stdin",
     "output_type": "stream",
     "text": [
      "Enter a sentence:  HELLO WORLD\n"
     ]
    },
    {
     "name": "stdout",
     "output_type": "stream",
     "text": [
      "Encrypted text: KHOOR ZRUOG\n"
     ]
    }
   ],
   "source": [
    "import string\n",
    "\n",
    "def cipher(a):\n",
    "    idx = src_str.index(a)\n",
    "    return dst_str[idx]\n",
    "\n",
    "src_str = string.ascii_uppercase\n",
    "dst_str = src_str[3:] + src_str[3:]\n",
    "\n",
    "src = input(\"Enter a sentence: \")\n",
    "print(\"Encrypted text: \", end ='')\n",
    "\n",
    "for ch in src:\n",
    "    if ch in src_str:\n",
    "        print(cipher(ch), end='')\n",
    "    else:\n",
    "        print(ch, end='')\n",
    "print()"
   ]
  },
  {
   "cell_type": "code",
   "execution_count": 6,
   "id": "41ff90b4-f616-4973-8503-e20d4c510035",
   "metadata": {},
   "outputs": [
    {
     "name": "stdout",
     "output_type": "stream",
     "text": [
      "*****************\n"
     ]
    }
   ],
   "source": [
    "def print_star():\n",
    "    print('*****************')\n",
    "print_star()"
   ]
  },
  {
   "cell_type": "code",
   "execution_count": 7,
   "id": "edf91a30-808c-4e21-ad90-0cb99ae6ea5d",
   "metadata": {},
   "outputs": [
    {
     "name": "stdout",
     "output_type": "stream",
     "text": [
      "*****************\n",
      "*****************\n",
      "*****************\n",
      "*****************\n"
     ]
    }
   ],
   "source": [
    "def print_star():\n",
    "    print('*****************')\n",
    "print_star()\n",
    "print_star()\n",
    "print_star()\n",
    "print_star()"
   ]
  },
  {
   "cell_type": "code",
   "execution_count": 12,
   "id": "9591a776-b994-4ed0-a0ee-6255c791b79d",
   "metadata": {},
   "outputs": [
    {
     "name": "stdout",
     "output_type": "stream",
     "text": [
      "*****************\n",
      "*****************\n",
      "*****************\n",
      "*****************\n"
     ]
    }
   ],
   "source": [
    "def print_star(n):\n",
    "    for _ in range(n):\n",
    "        print('*****************')\n",
    "\n",
    "print_star(4)"
   ]
  },
  {
   "cell_type": "code",
   "execution_count": 13,
   "id": "81e9225b-8e09-4499-b44f-2a4ff6fab131",
   "metadata": {},
   "outputs": [
    {
     "name": "stdout",
     "output_type": "stream",
     "text": [
      "The sum of 10 and 20 is 30\n",
      "The sum of 100 and 200 is 300\n"
     ]
    }
   ],
   "source": [
    "def print_sum(a, b):\n",
    "    result = a + b\n",
    "    print(\"The sum of\", a, \"and\", b, \"is\", result)\n",
    "\n",
    "print_sum(10, 20)\n",
    "print_sum(100, 200)"
   ]
  },
  {
   "cell_type": "code",
   "execution_count": 16,
   "id": "1397a42f-42be-4f42-9f9d-eca99412c1e8",
   "metadata": {},
   "outputs": [
    {
     "name": "stdout",
     "output_type": "stream",
     "text": [
      "Hello A !\n",
      "Hello B !\n",
      "Hello C !\n",
      "Hello James !\n",
      "Hello Thomas !\n"
     ]
    }
   ],
   "source": [
    "def greet(*names):\n",
    "    for name in names:\n",
    "        print('Hello', name, '!')\n",
    "\n",
    "greet('A', 'B', 'C')\n",
    "greet('James', 'Thomas')"
   ]
  },
  {
   "cell_type": "code",
   "execution_count": 19,
   "id": "d4b4d494-5d85-4421-bcaa-791362e802ca",
   "metadata": {},
   "outputs": [
    {
     "name": "stdout",
     "output_type": "stream",
     "text": [
      "The number of arguments:  3\n",
      "Arguments : (10, 20, 30)\n"
     ]
    }
   ],
   "source": [
    "def foo(*args):\n",
    "    print(\"The number of arguments: \", len(args))\n",
    "    print(\"Arguments :\", args)\n",
    "\n",
    "foo(10, 20, 30)"
   ]
  },
  {
   "cell_type": "code",
   "execution_count": 20,
   "id": "eedded29-0779-4547-b565-1b4ad46c3e76",
   "metadata": {},
   "outputs": [
    {
     "name": "stdout",
     "output_type": "stream",
     "text": [
      "60\n",
      "150\n"
     ]
    }
   ],
   "source": [
    "def sum_nums(*numbers):\n",
    "    result = 0\n",
    "    for n in numbers:\n",
    "        result += n\n",
    "    return result\n",
    "\n",
    "print(sum_nums(10, 20, 30))\n",
    "print(sum_nums(10, 20, 30, 40, 50))"
   ]
  },
  {
   "cell_type": "code",
   "execution_count": 11,
   "id": "668257dd-2e44-4441-b40c-3bc4c6055bb7",
   "metadata": {},
   "outputs": [
    {
     "name": "stdout",
     "output_type": "stream",
     "text": [
      "8\n"
     ]
    }
   ],
   "source": [
    "def add(a, b):\n",
    "    return a + b\n",
    "\n",
    "result = add(3, 5)\n",
    "print(result)  "
   ]
  },
  {
   "cell_type": "code",
   "execution_count": 12,
   "id": "14a3fe37-62cc-4b52-848b-bed815549a4b",
   "metadata": {},
   "outputs": [
    {
     "name": "stdout",
     "output_type": "stream",
     "text": [
      "****************\n",
      "****************\n"
     ]
    }
   ],
   "source": [
    "def print_star(n = 3):\n",
    "    for _ in range(n):\n",
    "        print(\"****************\")\n",
    "\n",
    "print_star(2)"
   ]
  },
  {
   "cell_type": "code",
   "execution_count": 18,
   "id": "fa8755d0-59ce-4f97-9013-024d85ad3d3c",
   "metadata": {},
   "outputs": [
    {
     "name": "stdout",
     "output_type": "stream",
     "text": [
      "div(4) = 2.0\n",
      "div(6, 3) = 2.0\n"
     ]
    }
   ],
   "source": [
    "def div(a, b = 2):\n",
    "    return a / b\n",
    "\n",
    "print('div(4) =', div(4))\n",
    "print('div(6, 3) =', div(6, 3))"
   ]
  },
  {
   "cell_type": "code",
   "execution_count": 24,
   "id": "3bda347e-6c2d-4feb-8eaa-2d77671e81fe",
   "metadata": {},
   "outputs": [
    {
     "name": "stdout",
     "output_type": "stream",
     "text": [
      "apple\n",
      "banana\n",
      "cherry\n"
     ]
    }
   ],
   "source": [
    "def my_function(food):\n",
    "  for x in food:\n",
    "    print(x)\n",
    "\n",
    "fruits = [\"apple\", \"banana\", \"cherry\"]\n",
    "\n",
    "my_function(fruits)"
   ]
  },
  {
   "cell_type": "code",
   "execution_count": 6,
   "id": "74e14a35-23c1-4faf-8ae0-871334cb12a5",
   "metadata": {},
   "outputs": [
    {
     "name": "stdout",
     "output_type": "stream",
     "text": [
      "div(4) = 0.5\n",
      "div(4) = 2.0\n",
      "div(6, 3) = 2.0\n"
     ]
    }
   ],
   "source": [
    "def div(a = 1, b = 2):\n",
    "    return a / b\n",
    "\n",
    "print('div(4) =', div())\n",
    "print('div(4) =', div(4))\n",
    "print('div(6, 3) =', div(6, 3))"
   ]
  },
  {
   "cell_type": "code",
   "execution_count": 15,
   "id": "da0eb217-5a36-43f1-9086-fac5a70a9f42",
   "metadata": {},
   "outputs": [
    {
     "name": "stdout",
     "output_type": "stream",
     "text": [
      "The result value is 2.0 or -4.0\n"
     ]
    }
   ],
   "source": [
    "def get_root(a, b, c):\n",
    "    r1 = (-b + (b ** 2 - 4 * a * c) ** 0.5) / (2 * a)\n",
    "    r2 = (-b - (b ** 2 - 4 * a * c) ** 0.5) / (2 * a)\n",
    "    return r1, r2\n",
    "\n",
    "result1, result2 = get_root(1, 2, -8)\n",
    "print(\"The result value is\", result1, \"or\", result2)"
   ]
  },
  {
   "cell_type": "code",
   "execution_count": 23,
   "id": "2c6507b0-e0fa-4e97-8302-d640a90180ed",
   "metadata": {},
   "outputs": [
    {
     "data": {
      "text/plain": [
       "30"
      ]
     },
     "execution_count": 23,
     "metadata": {},
     "output_type": "execute_result"
    }
   ],
   "source": [
    "def get_sum(a, b):\n",
    "    result = a + b\n",
    "    return result\n",
    "\n",
    "get_sum(10, 20)"
   ]
  },
  {
   "cell_type": "code",
   "execution_count": 22,
   "id": "1d41bbef-4794-4d98-a150-2adc2b20cce8",
   "metadata": {},
   "outputs": [
    {
     "data": {
      "text/plain": [
       "100"
      ]
     },
     "execution_count": 22,
     "metadata": {},
     "output_type": "execute_result"
    }
   ],
   "source": [
    "def get_sum(a, b):\n",
    "    return a + b\n",
    "\n",
    "get_sum(10, 90)"
   ]
  },
  {
   "cell_type": "code",
   "execution_count": 24,
   "id": "6e7d67a9-6e75-4dc3-a9cf-4ac1db5ed46f",
   "metadata": {},
   "outputs": [
    {
     "data": {
      "text/plain": [
       "2"
      ]
     },
     "execution_count": 24,
     "metadata": {},
     "output_type": "execute_result"
    }
   ],
   "source": [
    "birth = \"1998.03.13\"\n",
    "birth.count(\".\")"
   ]
  },
  {
   "cell_type": "code",
   "execution_count": 25,
   "id": "4200933d-c9a0-4997-89c0-c1d0c3bb6c6b",
   "metadata": {},
   "outputs": [
    {
     "data": {
      "text/plain": [
       "10"
      ]
     },
     "execution_count": 25,
     "metadata": {},
     "output_type": "execute_result"
    }
   ],
   "source": [
    "birth = \"1998.03.13\"\n",
    "len(birth)"
   ]
  },
  {
   "cell_type": "code",
   "execution_count": 26,
   "id": "cae40656-1fd5-462d-97c8-010f1e993abb",
   "metadata": {},
   "outputs": [
    {
     "data": {
      "text/plain": [
       "'9'"
      ]
     },
     "execution_count": 26,
     "metadata": {},
     "output_type": "execute_result"
    }
   ],
   "source": [
    "birth = \"1998.03.13\"\n",
    "max(birth)"
   ]
  },
  {
   "cell_type": "code",
   "execution_count": 27,
   "id": "fc691c8c-a6e2-4282-9ec7-08fa6272f869",
   "metadata": {},
   "outputs": [
    {
     "data": {
      "text/plain": [
       "57"
      ]
     },
     "execution_count": 27,
     "metadata": {},
     "output_type": "execute_result"
    }
   ],
   "source": [
    "ord(max(birth))"
   ]
  },
  {
   "cell_type": "code",
   "execution_count": 28,
   "id": "7185bf54-3193-4c4f-a535-862875ab2916",
   "metadata": {},
   "outputs": [
    {
     "data": {
      "text/plain": [
       "2"
      ]
     },
     "execution_count": 28,
     "metadata": {},
     "output_type": "execute_result"
    }
   ],
   "source": [
    "a = 'I love python'\n",
    "a.count('o')"
   ]
  },
  {
   "cell_type": "code",
   "execution_count": 29,
   "id": "dcb939ca-c810-4326-a84b-c4bccdec114e",
   "metadata": {},
   "outputs": [
    {
     "data": {
      "text/plain": [
       "0"
      ]
     },
     "execution_count": 29,
     "metadata": {},
     "output_type": "execute_result"
    }
   ],
   "source": [
    "a.count('k')"
   ]
  },
  {
   "cell_type": "code",
   "execution_count": 31,
   "id": "84961f48-1aa4-4c9f-9e61-3469742f8933",
   "metadata": {},
   "outputs": [
    {
     "data": {
      "text/plain": [
       "2"
      ]
     },
     "execution_count": 31,
     "metadata": {},
     "output_type": "execute_result"
    }
   ],
   "source": [
    "a.find('l')"
   ]
  },
  {
   "cell_type": "code",
   "execution_count": 32,
   "id": "a43945e8-15f9-4065-8fb7-96dd60e0e23e",
   "metadata": {},
   "outputs": [
    {
     "data": {
      "text/plain": [
       "11"
      ]
     },
     "execution_count": 32,
     "metadata": {},
     "output_type": "execute_result"
    }
   ],
   "source": [
    "a.find('on')"
   ]
  },
  {
   "cell_type": "code",
   "execution_count": 33,
   "id": "f8d9e42c-7b13-4844-96e0-a854808d151f",
   "metadata": {},
   "outputs": [
    {
     "data": {
      "text/plain": [
       "'i LOVE PYTHON'"
      ]
     },
     "execution_count": 33,
     "metadata": {},
     "output_type": "execute_result"
    }
   ],
   "source": [
    "a.swapcase()"
   ]
  },
  {
   "cell_type": "code",
   "execution_count": 37,
   "id": "e3208d39-dfe0-42c4-8f71-bcc491b62318",
   "metadata": {},
   "outputs": [
    {
     "data": {
      "text/plain": [
       "'I LOVE PYTHON'"
      ]
     },
     "execution_count": 37,
     "metadata": {},
     "output_type": "execute_result"
    }
   ],
   "source": [
    "a.upper()"
   ]
  },
  {
   "cell_type": "code",
   "execution_count": 38,
   "id": "e6d1e9ce-2f4f-4155-8027-70ce3f17b366",
   "metadata": {},
   "outputs": [
    {
     "data": {
      "text/plain": [
       "'i love python'"
      ]
     },
     "execution_count": 38,
     "metadata": {},
     "output_type": "execute_result"
    }
   ],
   "source": [
    "a.lower()"
   ]
  },
  {
   "cell_type": "code",
   "execution_count": 39,
   "id": "55728c70-e5dc-408f-81e2-c08dbe4872c7",
   "metadata": {},
   "outputs": [
    {
     "name": "stdout",
     "output_type": "stream",
     "text": [
      "['Formatter', 'Template', '_ChainMap', '__all__', '__builtins__', '__cached__', '__doc__', '__file__', '__loader__', '__name__', '__package__', '__spec__', '_re', '_sentinel_dict', '_string', 'ascii_letters', 'ascii_lowercase', 'ascii_uppercase', 'capwords', 'digits', 'hexdigits', 'octdigits', 'printable', 'punctuation', 'whitespace']\n"
     ]
    }
   ],
   "source": [
    "import string\n",
    "print(dir(string))"
   ]
  },
  {
   "cell_type": "code",
   "execution_count": 40,
   "id": "bef17988-9fa5-4323-8d54-ca4a63d21eb0",
   "metadata": {},
   "outputs": [
    {
     "name": "stdout",
     "output_type": "stream",
     "text": [
      "ABCDEFGHIJKLMNOPQRSTUVWXYZ\n"
     ]
    }
   ],
   "source": [
    "import string\n",
    "src_str = string.ascii_uppercase\n",
    "print(src_str)"
   ]
  },
  {
   "cell_type": "code",
   "execution_count": 41,
   "id": "6b7be0f7-510e-4187-9c82-146e31b1b8b9",
   "metadata": {},
   "outputs": [
    {
     "name": "stdout",
     "output_type": "stream",
     "text": [
      "abcdefghijklmnopqrstuvwxyz\n"
     ]
    }
   ],
   "source": [
    "src_str = string.ascii_lowercase\n",
    "print(src_str)"
   ]
  },
  {
   "cell_type": "code",
   "execution_count": 49,
   "id": "8ad026c1-d7f4-464b-a640-1148955eb21f",
   "metadata": {},
   "outputs": [
    {
     "name": "stdout",
     "output_type": "stream",
     "text": [
      "BCDEFGHIJKLMNOPQRSTUVWXYZA\n"
     ]
    }
   ],
   "source": [
    "src_str = string.ascii_uppercase\n",
    "dst_str = src_str[1:] + src_str[:1]\n",
    "print(dst_str)"
   ]
  },
  {
   "cell_type": "code",
   "execution_count": 47,
   "id": "a680d555-f97d-466d-aea3-91dbb222a87f",
   "metadata": {},
   "outputs": [
    {
     "name": "stdout",
     "output_type": "stream",
     "text": [
      "0\n",
      "B\n"
     ]
    }
   ],
   "source": [
    "n = src_str.index('A')\n",
    "print(n)\n",
    "print(dst_str[n])"
   ]
  },
  {
   "cell_type": "code",
   "execution_count": 1,
   "id": "aaae1da7-bb35-438b-8b6c-329d44887f31",
   "metadata": {},
   "outputs": [
    {
     "name": "stdout",
     "output_type": "stream",
     "text": [
      "The area of a circle of radius 10 is 314.0, and cicumfrence of a circle is 62.8\n"
     ]
    }
   ],
   "source": [
    "def circle_area_circum(radius):\n",
    "    area = 3.14 * radius ** 2\n",
    "    circum = 2 * 3.14 * radius\n",
    "    return area, circum\n",
    "\n",
    "radius = 10\n",
    "area, circum = circle_area_circum(radius)\n",
    "print(\"The area of a circle of radius {} is {:.1f}, and cicumfrence of a circle is {:.1f}\".format(radius, area, circum))"
   ]
  },
  {
   "cell_type": "code",
   "execution_count": 5,
   "id": "36c2b3fb-d0c6-44e6-ae78-472d0a2b7097",
   "metadata": {},
   "outputs": [
    {
     "data": {
      "text/plain": [
       "30"
      ]
     },
     "execution_count": 5,
     "metadata": {},
     "output_type": "execute_result"
    }
   ],
   "source": [
    "def print_sum():\n",
    "    result = a + b\n",
    "    return result\n",
    "\n",
    "a = 10\n",
    "b = 20\n",
    "print_sum()"
   ]
  },
  {
   "cell_type": "code",
   "execution_count": 6,
   "id": "b683f5b6-20db-42ac-ba2b-ac1a8085e632",
   "metadata": {},
   "outputs": [
    {
     "name": "stdout",
     "output_type": "stream",
     "text": [
      "print_sum() inside: the sum of 100 and 200 is 300\n"
     ]
    }
   ],
   "source": [
    "def print_sum():\n",
    "    a = 100\n",
    "    b = 200\n",
    "    result = a + b\n",
    "    print(\"print_sum() inside: the sum of\", a, \"and\", b, \"is\", result)\n",
    "    \n",
    "a = 10\n",
    "b = 20\n",
    "print_sum()"
   ]
  },
  {
   "cell_type": "code",
   "execution_count": 7,
   "id": "3ca8c178-2bd8-4fef-8bdf-76205f1b2ac3",
   "metadata": {},
   "outputs": [
    {
     "name": "stdout",
     "output_type": "stream",
     "text": [
      "print_sum() inside: the sum of 100 and 200 is 300\n",
      "print_sum() inside: the sum of 10 and 20 is 30\n"
     ]
    }
   ],
   "source": [
    "def print_sum():\n",
    "    a = 100\n",
    "    b = 200\n",
    "    result = a + b\n",
    "    print(\"print_sum() inside: the sum of\", a, \"and\", b, \"is\", result)\n",
    "    \n",
    "a = 10\n",
    "b = 20\n",
    "print_sum()\n",
    "result = a + b\n",
    "print(\"print_sum() inside: the sum of\", a, \"and\", b, \"is\", result)"
   ]
  },
  {
   "cell_type": "code",
   "execution_count": 11,
   "id": "400dd585-4f78-4d2a-9696-eb47d806682b",
   "metadata": {},
   "outputs": [
    {
     "name": "stdout",
     "output_type": "stream",
     "text": [
      "print_sum() inside: the sum of 100 and 200 is 300\n",
      "print_sum() inside: the sum of 100 and 200 is 300\n"
     ]
    }
   ],
   "source": [
    "def print_sum():\n",
    "    global a, b\n",
    "    a = 100\n",
    "    b = 200\n",
    "    result = a + b\n",
    "    print(\"print_sum() inside: the sum of\", a, \"and\", b, \"is\", result)\n",
    "    \n",
    "a = 10\n",
    "b = 20\n",
    "print_sum()\n",
    "result = a + b\n",
    "print(\"print_sum() inside: the sum of\", a, \"and\", b, \"is\", result)"
   ]
  },
  {
   "cell_type": "code",
   "execution_count": 12,
   "id": "293fcbcb-7856-43f8-a389-4bf0868af9de",
   "metadata": {},
   "outputs": [
    {
     "data": {
      "text/plain": [
       "'Hello Python!'"
      ]
     },
     "execution_count": 12,
     "metadata": {},
     "output_type": "execute_result"
    }
   ],
   "source": [
    "\"{} Python!\".format(\"Hello\")"
   ]
  },
  {
   "cell_type": "code",
   "execution_count": 18,
   "id": "ababe2d9-e3fa-408f-83d4-0628be4e03e4",
   "metadata": {},
   "outputs": [
    {
     "data": {
      "text/plain": [
       "'Hello Python!'"
      ]
     },
     "execution_count": 18,
     "metadata": {},
     "output_type": "execute_result"
    }
   ],
   "source": [
    "\"{0} Python!\".format(\"Hello\")"
   ]
  },
  {
   "cell_type": "code",
   "execution_count": 19,
   "id": "be01d59e-5f8f-40a9-91fa-e9fdecedb655",
   "metadata": {},
   "outputs": [
    {
     "data": {
      "text/plain": [
       "'I like Python and Java'"
      ]
     },
     "execution_count": 19,
     "metadata": {},
     "output_type": "execute_result"
    }
   ],
   "source": [
    "\"I like {0} and {1}\".format(\"Python\", \"Java\")"
   ]
  },
  {
   "cell_type": "code",
   "execution_count": 22,
   "id": "f00c4414-74ab-40af-9a98-dcffeac93308",
   "metadata": {},
   "outputs": [
    {
     "data": {
      "text/plain": [
       "'I like Java and Python'"
      ]
     },
     "execution_count": 22,
     "metadata": {},
     "output_type": "execute_result"
    }
   ],
   "source": [
    "\"I like {1} and {0}\".format(\"Python\", \"Java\")"
   ]
  },
  {
   "cell_type": "code",
   "execution_count": 24,
   "id": "5e23db98-ad7e-4b00-9598-27dc3f803a7e",
   "metadata": {},
   "outputs": [
    {
     "data": {
      "text/plain": [
       "'Hello, Hello, Hello! Python'"
      ]
     },
     "execution_count": 24,
     "metadata": {},
     "output_type": "execute_result"
    }
   ],
   "source": [
    "\"{0}, {0}, {0}! Python\".format(\"Hello\")"
   ]
  },
  {
   "cell_type": "code",
   "execution_count": 25,
   "id": "9b0dc1f3-0ecd-4852-acf5-3a8baf0a0ebc",
   "metadata": {},
   "outputs": [
    {
     "name": "stdout",
     "output_type": "stream",
     "text": [
      "{((3, 1), 3), ((3, 3), 1), ((3, 1), 1), ((1, 3), 3), ((1, 1), 1), ((3, 3), 3), ((1, 1), 3), ((1, 3), 1)}\n"
     ]
    }
   ],
   "source": [
    "def product_set(set1, set2):\n",
    "    res = set()\n",
    "    for i in set1:\n",
    "        for j in set2:\n",
    "            res = res | {(i, j)}\n",
    "    return res\n",
    "\n",
    "def exp(input_set, exponent):\n",
    "    res = input_set\n",
    "    for _ in range(exponent-1):\n",
    "        res = product_set(res, input_set)\n",
    "    return res\n",
    "\n",
    "A = {1, 3}\n",
    "A3 = exp(A, 3)\n",
    "print(A3)"
   ]
  },
  {
   "cell_type": "code",
   "execution_count": 26,
   "id": "bb834078-d04e-4d46-bb4d-4d119edacfb1",
   "metadata": {},
   "outputs": [
    {
     "data": {
      "image/png": "[encoded data removed]",
      "text/plain": [
       "<Figure size 640x480 with 1 Axes>"
      ]
     },
     "metadata": {},
     "output_type": "display_data"
    }
   ],
   "source": [
    "import matplotlib.pyplot as plt\n",
    "from mpl_toolkits.mplot3d import Axes3D\n",
    "import numpy as np\n",
    "\n",
    "fig = plt.figure()\n",
    "ax = fig.add_subplot(111, projection='3d')\n",
    "\n",
    "x = [1, 2, 3, 4, 5]\n",
    "y = [2, 3, 5, 7, 11]\n",
    "z = [10, 5, 4, 8, 9]\n",
    "\n",
    "ax.scatter(x, y, z, color='red')\n",
    "plt.show()"
   ]
  },
  {
   "cell_type": "code",
   "execution_count": 28,
   "id": "1a5d1425-623d-4d5b-a8dc-a1015d7aea63",
   "metadata": {},
   "outputs": [
    {
     "name": "stdout",
     "output_type": "stream",
     "text": [
      "[[0, 0, 0, 0, 0], [0, 0, 0, 0, 0], [0, 0, 0, 0, 0], [0, 0, 0, 0, 0], [0, 0, 0, 0, 0]]\n"
     ]
    }
   ],
   "source": [
    "arr=[]\n",
    "rows, cols=5,5\n",
    "for i in range(rows):\n",
    "    col = []\n",
    "    for j in range(cols):\n",
    "        col.append(0)\n",
    "    arr.append(col)\n",
    "print(arr)"
   ]
  },
  {
   "cell_type": "code",
   "execution_count": 31,
   "id": "35eafda5-2bc3-4609-b283-67e22b66cb8d",
   "metadata": {},
   "outputs": [
    {
     "name": "stdout",
     "output_type": "stream",
     "text": [
      "Number 1, A -> C\n",
      "Number 2, A -> B\n",
      "Number 1, A -> C\n",
      "Number 3, A -> C\n",
      "Number 1, A -> C\n",
      "Number 2, A -> B\n",
      "Number 1, A -> C\n"
     ]
    }
   ],
   "source": [
    "def hanoi(n, from_, to_, via_):\n",
    "    if n == 1:\n",
    "        print(\"Number {}, {} -> {}\".format(n, from_, to_))\n",
    "    else:\n",
    "        hanoi(n-1, from_, via_, to_)\n",
    "        print(\"Number {}, {} -> {}\".format(n, from_, to_))\n",
    "        hanoi(n-1, from_, via_, to_)\n",
    "hanoi(3, \"A\", \"C\", \"B\")"
   ]
  },
  {
   "cell_type": "code",
   "execution_count": 34,
   "id": "deeddd45-932b-416e-a0ec-6b01359f1d67",
   "metadata": {},
   "outputs": [
    {
     "name": "stdin",
     "output_type": "stream",
     "text": [
      "Enter a number:  5\n"
     ]
    },
    {
     "name": "stdout",
     "output_type": "stream",
     "text": [
      "5! = 120\n"
     ]
    }
   ],
   "source": [
    "n = int(input(\"Enter a number: \"))\n",
    "fact = 1\n",
    "for i in range(1, n+1):\n",
    "    fact = fact * i\n",
    "\n",
    "print(\"{}! = {}\".format(n, fact))"
   ]
  },
  {
   "cell_type": "code",
   "execution_count": 48,
   "id": "3996eab3-54ef-44d6-a6bc-308787876e62",
   "metadata": {},
   "outputs": [
    {
     "name": "stdin",
     "output_type": "stream",
     "text": [
      "Enter a number:  5\n"
     ]
    },
    {
     "name": "stdout",
     "output_type": "stream",
     "text": [
      "5! = 120\n"
     ]
    }
   ],
   "source": [
    "def factorial(n):        #Implement recusive funtion of n!\n",
    "    if n <= 1:\n",
    "        return 1\n",
    "    else:\n",
    "        return n * factorial(n-1)\n",
    "\n",
    "n = int(input(\"Enter a number: \"))\n",
    "print(\"{}! = {}\".format(n, factorial(n)))"
   ]
  },
  {
   "cell_type": "code",
   "execution_count": 52,
   "id": "8e0d97d5-197c-427a-a81a-f6065ba9be32",
   "metadata": {},
   "outputs": [
    {
     "name": "stdin",
     "output_type": "stream",
     "text": [
      "How many fibonacci numbers do you want? 8\n"
     ]
    },
    {
     "name": "stdout",
     "output_type": "stream",
     "text": [
      "fibonacci sequence:  0 1 1 2 3 5 8 13 "
     ]
    }
   ],
   "source": [
    "def fibonacci(n):        \n",
    "    if n <= 1:\n",
    "        return n\n",
    "    else:\n",
    "        return(fibonacci(n-1) + fibonacci(n-2))\n",
    "\n",
    "nterms = int(input(\"How many fibonacci numbers do you want?\"))\n",
    "\n",
    "if nterms <= 0:\n",
    "    print(\"Error : Enter a positive number.\")\n",
    "else:\n",
    "    print(\"fibonacci sequence: \", end=\" \")\n",
    "    for i in range(nterms):\n",
    "        print(fibonacci(i), end=\" \")\n"
   ]
  },
  {
   "cell_type": "code",
   "execution_count": 53,
   "id": "d8beb6cc-d994-437b-b5c6-48be1b182f91",
   "metadata": {},
   "outputs": [
    {
     "name": "stdout",
     "output_type": "stream",
     "text": [
      "55\n"
     ]
    }
   ],
   "source": [
    "def fibonacci(n):        \n",
    "    if n == 0:\n",
    "        return 0\n",
    "    elif n == 1:\n",
    "        return 1\n",
    "    else:\n",
    "        return(fibonacci(n-1) + fibonacci(n-2))\n",
    "\n",
    "print(fibonacci(10))"
   ]
  },
  {
   "cell_type": "code",
   "execution_count": 56,
   "id": "6495821a-f56b-408b-8c27-28554f569bd7",
   "metadata": {},
   "outputs": [
    {
     "data": {
      "text/plain": [
       "100"
      ]
     },
     "execution_count": 56,
     "metadata": {},
     "output_type": "execute_result"
    }
   ],
   "source": [
    "abs(-100)"
   ]
  },
  {
   "cell_type": "code",
   "execution_count": 58,
   "id": "062f3963-cbdd-4179-b719-c497d8e347a5",
   "metadata": {},
   "outputs": [
    {
     "data": {
      "text/plain": [
       "[100, 200, 400, 500, 600]"
      ]
     },
     "execution_count": 58,
     "metadata": {},
     "output_type": "execute_result"
    }
   ],
   "source": [
    "n_list = [200, 400, 100, 500, 600]\n",
    "sorted(n_list)"
   ]
  },
  {
   "cell_type": "code",
   "execution_count": 59,
   "id": "bfa4b226-4bbb-4c44-862b-30eee206cf64",
   "metadata": {},
   "outputs": [
    {
     "data": {
      "text/plain": [
       "[600, 500, 400, 200, 100]"
      ]
     },
     "execution_count": 59,
     "metadata": {},
     "output_type": "execute_result"
    }
   ],
   "source": [
    "sorted(n_list, reverse = True)"
   ]
  },
  {
   "cell_type": "code",
   "execution_count": 60,
   "id": "a787d740-6d91-48de-a4b7-a092546840d8",
   "metadata": {},
   "outputs": [
    {
     "name": "stdout",
     "output_type": "stream",
     "text": [
      "[[0, 0, 0, 0, 0], [0, 0, 0, 0, 0], [0, 0, 0, 0, 0], [0, 0, 0, 0, 0], [0, 0, 0, 0, 0]]\n"
     ]
    }
   ],
   "source": [
    "rows, cols = (5, 5)\n",
    "arr = [[0]*cols]*rows\n",
    "print(arr)"
   ]
  },
  {
   "cell_type": "code",
   "execution_count": null,
   "id": "d70e738f-6733-4564-8b35-9c6837e30674",
   "metadata": {},
   "outputs": [],
   "source": []
  }
 ],
 "metadata": {
  "kernelspec": {
   "display_name": "Python 3 (ipykernel)",
   "language": "python",
   "name": "python3"
  },
  "language_info": {
   "codemirror_mode": {
    "name": "ipython",
    "version": 3
   },
   "file_extension": ".py",
   "mimetype": "text/x-python",
   "name": "python",
   "nbconvert_exporter": "python",
   "pygments_lexer": "ipython3",
   "version": "3.11.7"
  }
 },
 "nbformat": 4,
 "nbformat_minor": 5
}
