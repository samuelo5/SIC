{
 "cells": [
  {
   "cell_type": "code",
   "execution_count": 10,
   "id": "f9d37da9-94ef-476d-8864-3a84fa891278",
   "metadata": {},
   "outputs": [
    {
     "name": "stdout",
     "output_type": "stream",
     "text": [
      "Name Samuel\n",
      "age 19\n",
      "Residestial Umoja\n"
     ]
    }
   ],
   "source": [
    "dict1 = { 'Name': 'Samuel', 'age': 19, 'Residestial': 'Umoja'}\n",
    "for x, y in dict1.items():\n",
    "    print(x, y)"
   ]
  },
  {
   "cell_type": "code",
   "execution_count": 11,
   "id": "f221f3fa-295f-4cce-9501-dc7d961cc9cd",
   "metadata": {},
   "outputs": [
    {
     "name": "stdout",
     "output_type": "stream",
     "text": [
      "Samuel\n"
     ]
    }
   ],
   "source": [
    "print(dict1['Name'])"
   ]
  },
  {
   "cell_type": "code",
   "execution_count": 17,
   "id": "68198224-5137-4273-ac6f-408a51ec39be",
   "metadata": {},
   "outputs": [
    {
     "name": "stdout",
     "output_type": "stream",
     "text": [
      "None\n"
     ]
    }
   ],
   "source": [
    "print(dict1.get('Name'))"
   ]
  },
  {
   "cell_type": "code",
   "execution_count": 19,
   "id": "46a0a63d-78e4-4c15-87f1-1c58e1dcad88",
   "metadata": {},
   "outputs": [
    {
     "name": "stdout",
     "output_type": "stream",
     "text": [
      "{'a': None, 'b': None, 'c': None, 'd': None}\n"
     ]
    }
   ],
   "source": [
    "keys = ['a', 'b', 'c', 'd'] # Converting list to dictonary \n",
    "x = dict.fromkeys(keys)\n",
    "print(x)"
   ]
  },
  {
   "cell_type": "code",
   "execution_count": 20,
   "id": "2f93def3-9b26-4a06-a531-abee1ca19ff7",
   "metadata": {},
   "outputs": [
    {
     "name": "stdout",
     "output_type": "stream",
     "text": [
      "{'a': None, 'b': None, 'c': None, 'd': None}\n"
     ]
    }
   ],
   "source": [
    "keys = ('a', 'b', 'c', 'd') # Converting tuples to dictonary\n",
    "x = dict.fromkeys(keys)\n",
    "print(x)"
   ]
  },
  {
   "cell_type": "code",
   "execution_count": 25,
   "id": "26b4892f-9ad0-470c-bab9-5e4cdd949040",
   "metadata": {},
   "outputs": [
    {
     "name": "stdout",
     "output_type": "stream",
     "text": [
      "{'a': 100, 'b': 100, 'c': 100, 'd': 100}\n"
     ]
    }
   ],
   "source": [
    "keys = ('a', 'b', 'c', 'd')\n",
    "y = dict.fromkeys(keys, 100)\n",
    "print(y)"
   ]
  },
  {
   "cell_type": "code",
   "execution_count": 27,
   "id": "22fb2cfc-6ed0-4d39-be42-cc57acef45a3",
   "metadata": {},
   "outputs": [
    {
     "data": {
      "text/plain": [
       "0"
      ]
     },
     "execution_count": 27,
     "metadata": {},
     "output_type": "execute_result"
    }
   ],
   "source": [
    "from collections import defaultdict\n",
    "\n",
    "keys = ('a', 'b', 'c', 'd')\n",
    "y = dict.fromkeys(keys, 100)\n",
    "y = defaultdict(int)\n",
    "y['z']"
   ]
  },
  {
   "cell_type": "code",
   "execution_count": 28,
   "id": "f5511643-ca9f-4189-a0b9-2e0520ec308a",
   "metadata": {},
   "outputs": [
    {
     "data": {
      "text/plain": [
       "defaultdict(int, {'z': 0})"
      ]
     },
     "execution_count": 28,
     "metadata": {},
     "output_type": "execute_result"
    }
   ],
   "source": [
    "y"
   ]
  },
  {
   "cell_type": "code",
   "execution_count": 29,
   "id": "bb61bc05-3b7e-40d8-96b5-e1b9d93dfae0",
   "metadata": {},
   "outputs": [
    {
     "data": {
      "text/plain": [
       "0"
      ]
     },
     "execution_count": 29,
     "metadata": {},
     "output_type": "execute_result"
    }
   ],
   "source": [
    "int()"
   ]
  },
  {
   "cell_type": "code",
   "execution_count": 30,
   "id": "ba21c6fc-a88f-4071-8cfb-faea7b26ce1f",
   "metadata": {},
   "outputs": [
    {
     "data": {
      "text/plain": [
       "defaultdict(int, {'a': 4, 'b': 3, 'c': 2})"
      ]
     },
     "execution_count": 30,
     "metadata": {},
     "output_type": "execute_result"
    }
   ],
   "source": [
    "from collections import defaultdict\n",
    "\n",
    "word = 'abcbaabca'\n",
    "counter = defaultdict(int)\n",
    "for letter in word:\n",
    "    counter[letter] += 1\n",
    "\n",
    "counter"
   ]
  },
  {
   "cell_type": "code",
   "execution_count": 31,
   "id": "26a7801b-d206-4ae6-82cb-71de2a33300e",
   "metadata": {},
   "outputs": [
    {
     "data": {
      "text/plain": [
       "defaultdict(list, {})"
      ]
     },
     "execution_count": 31,
     "metadata": {},
     "output_type": "execute_result"
    }
   ],
   "source": [
    "list_dict = defaultdict(list)\n",
    "list_dict"
   ]
  },
  {
   "cell_type": "code",
   "execution_count": 34,
   "id": "d5a47875-4bfc-41e8-8440-7b2c0a9dd31a",
   "metadata": {},
   "outputs": [
    {
     "data": {
      "text/plain": [
       "[]"
      ]
     },
     "execution_count": 34,
     "metadata": {},
     "output_type": "execute_result"
    }
   ],
   "source": [
    "list_dict['list1']"
   ]
  },
  {
   "cell_type": "code",
   "execution_count": 35,
   "id": "2e6aee0b-925e-4e8f-ad76-60e9939d6e96",
   "metadata": {},
   "outputs": [
    {
     "name": "stdout",
     "output_type": "stream",
     "text": [
      "a b c d "
     ]
    }
   ],
   "source": [
    "x = {'a': 10, 'b': 20, 'c': 30, 'd': 40}\n",
    "for i in x:\n",
    "    print(i, end =' ')"
   ]
  },
  {
   "cell_type": "code",
   "execution_count": 36,
   "id": "1a2a715f-84c0-41ac-a0ef-677afe8897bd",
   "metadata": {},
   "outputs": [
    {
     "name": "stdout",
     "output_type": "stream",
     "text": [
      "a 10\n",
      "b 20\n",
      "c 30\n",
      "d 40\n"
     ]
    }
   ],
   "source": [
    "x = {'a': 10, 'b': 20, 'c': 30, 'd': 40}\n",
    "for key, value in x.items():\n",
    "    print(key, value)"
   ]
  },
  {
   "cell_type": "code",
   "execution_count": 39,
   "id": "7f4e1aff-3f45-4d37-9b9f-b380d2ee0032",
   "metadata": {},
   "outputs": [
    {
     "data": {
      "text/plain": [
       "{'a': 0, 'b': 0, 'c': 0, 'd': 0}"
      ]
     },
     "execution_count": 39,
     "metadata": {},
     "output_type": "execute_result"
    }
   ],
   "source": [
    "x = {'a': 0, 'b': 0, 'c': 0, 'd': 0}\n",
    "y = x.copy()\n",
    "y"
   ]
  },
  {
   "cell_type": "code",
   "execution_count": 80,
   "id": "711c2ae4-9816-49df-8498-b1eb645b322c",
   "metadata": {},
   "outputs": [
    {
     "name": "stdout",
     "output_type": "stream",
     "text": [
      "211101 ['David Doe', '010-1234-4500']\n",
      "211102 ['john smith', '010-2230-654']\n",
      "211103 ['jane Carter', '010-3232-7788']\n"
     ]
    }
   ],
   "source": [
    "study_tup = (('211101', 'David Doe', '010-1234-4500'), ('211102', 'john smith', '010-2230-654'), ('211103', 'jane Carter', '010-3232-7788'))\n",
    "\n",
    "student_dict = {student[0]: [student[1], student[2]] for student in study_tup}\n",
    "\n",
    "for x, i in student_dict.items():\n",
    "    print(x, i)"
   ]
  },
  {
   "cell_type": "code",
   "execution_count": 78,
   "id": "8ddc97fe-732b-4071-87e7-f8e65317194d",
   "metadata": {},
   "outputs": [
    {
     "name": "stdin",
     "output_type": "stream",
     "text": [
      "Enter the student ID:  211101\n"
     ]
    },
    {
     "name": "stdout",
     "output_type": "stream",
     "text": [
      "Student ID not found.\n"
     ]
    }
   ],
   "source": [
    "study_tup = (('211101', 'David Doe', '010-1234-4500'), ('211102', 'john smith', '010-2230-654'), ('211103', 'jane Carter', '010-3232-7788'))\n",
    "\n",
    "student_dict = {student[0]: [student[1], student[2]] for student in study_tup}\n",
    "\n",
    "user_input = input(\"Enter the student ID: \")\n",
    "\n",
    "x = student_dict.get(int(user_input))\n",
    "if info:\n",
    "    print(f\"Name: {i[0]}\")\n",
    "    print(f\"Phone: {i[1]}\")\n",
    "else:\n",
    "    print(\"Student ID not found.\")"
   ]
  },
  {
   "cell_type": "code",
   "execution_count": 81,
   "id": "cc0c2b07-d2c6-426f-8f66-cd4a0dc9035d",
   "metadata": {},
   "outputs": [],
   "source": [
    "x = {'a': {'python': '2.7'}, 'b':{'python': '3.6'}}\n",
    "y = x.copy()"
   ]
  },
  {
   "cell_type": "code",
   "execution_count": 82,
   "id": "af53323b-3e75-4a24-b197-a907942cb4f9",
   "metadata": {},
   "outputs": [
    {
     "data": {
      "text/plain": [
       "{'a': {'python': '2.7.15'}, 'b': {'python': '3.6'}}"
      ]
     },
     "execution_count": 82,
     "metadata": {},
     "output_type": "execute_result"
    }
   ],
   "source": [
    "y['a']['python'] = '2.7.15'\n",
    "x"
   ]
  },
  {
   "cell_type": "code",
   "execution_count": 83,
   "id": "661917ac-d8bd-4896-a287-ed5fdf0b4ef2",
   "metadata": {},
   "outputs": [
    {
     "data": {
      "text/plain": [
       "{'a': {'python': '2.7.15'}, 'b': {'python': '3.6'}}"
      ]
     },
     "execution_count": 83,
     "metadata": {},
     "output_type": "execute_result"
    }
   ],
   "source": [
    "y"
   ]
  },
  {
   "cell_type": "code",
   "execution_count": 84,
   "id": "f5b26f33-3276-4d84-9956-f4836e06df43",
   "metadata": {},
   "outputs": [
    {
     "data": {
      "text/plain": [
       "{'a': {'python': '2.7'}, 'b': {'python': '3.6'}}"
      ]
     },
     "execution_count": 84,
     "metadata": {},
     "output_type": "execute_result"
    }
   ],
   "source": [
    "x = {'a': {'python': '2.7'}, 'b':{'python': '3.6'}}\n",
    "import copy\n",
    "y = copy.deepcopy(x)\n",
    "y['a']['python'] = '2.7.15'\n",
    "x"
   ]
  },
  {
   "cell_type": "code",
   "execution_count": 85,
   "id": "9afc778d-7188-464b-be58-6998488f7fb3",
   "metadata": {},
   "outputs": [
    {
     "data": {
      "text/plain": [
       "{'a': {'python': '2.7.15'}, 'b': {'python': '3.6'}}"
      ]
     },
     "execution_count": 85,
     "metadata": {},
     "output_type": "execute_result"
    }
   ],
   "source": [
    "y"
   ]
  },
  {
   "cell_type": "code",
   "execution_count": 97,
   "id": "56c51741-01bf-46b8-9c56-cfd18b34f4fe",
   "metadata": {},
   "outputs": [
    {
     "name": "stdout",
     "output_type": "stream",
     "text": [
      "Name Samuel\n",
      "Age 19\n",
      "Residetial Umoja\n"
     ]
    }
   ],
   "source": [
    "study = {'Name': 'Samuel', 'Age': '19', 'Residetial': 'Umoja'}\n",
    "for y, x in study.items():\n",
    "    print(y, '-'.join(x.split())"
   ]
  },
  {
   "cell_type": "code",
   "execution_count": 88,
   "id": "97617884-b58b-4031-8a7c-6a4520208b0d",
   "metadata": {},
   "outputs": [
    {
     "data": {
      "text/plain": [
       "dict_items([('Name', 'Samuel'), ('Age', '19'), ('Residetial', 'Umoja')])"
      ]
     },
     "execution_count": 88,
     "metadata": {},
     "output_type": "execute_result"
    }
   ],
   "source": [
    "study.items()"
   ]
  },
  {
   "cell_type": "code",
   "execution_count": 92,
   "id": "4429e001-3cce-4334-bfe8-246ef6a5c584",
   "metadata": {},
   "outputs": [
    {
     "name": "stdout",
     "output_type": "stream",
     "text": [
      "Samuel\n"
     ]
    }
   ],
   "source": [
    "x = study.get('Name')\n",
    "print(x)"
   ]
  },
  {
   "cell_type": "code",
   "execution_count": 101,
   "id": "382ec4f1-d04b-43d2-b99d-27185faa92b9",
   "metadata": {},
   "outputs": [
    {
     "name": "stdout",
     "output_type": "stream",
     "text": [
      "Name 02.3488.7566\n",
      "Age 011.968.999\n",
      "Residetial 01.011997.75\n"
     ]
    }
   ],
   "source": [
    "study = {'Name': '02-3488-7566', 'Age': '011-968-999', 'Residetial': '01-011997-75'}\n",
    "for y, x in study.items():\n",
    "    print(y, '.'.join(x.split('-')))"
   ]
  },
  {
   "cell_type": "code",
   "execution_count": 105,
   "id": "6e349fcc-a7ef-43b0-b464-20d9743b1aa4",
   "metadata": {},
   "outputs": [
    {
     "data": {
      "text/plain": [
       "datetime.datetime(2024, 10, 16, 10, 3, 21, 611857)"
      ]
     },
     "execution_count": 105,
     "metadata": {},
     "output_type": "execute_result"
    }
   ],
   "source": [
    "import datetime\n",
    "datetime.datetime.now()"
   ]
  },
  {
   "cell_type": "code",
   "execution_count": 103,
   "id": "bb78552f-7cf5-4a0e-988f-50505ed82ca9",
   "metadata": {},
   "outputs": [
    {
     "name": "stdout",
     "output_type": "stream",
     "text": [
      "['MAXYEAR', 'MINYEAR', 'UTC', '__all__', '__builtins__', '__cached__', '__doc__', '__file__', '__loader__', '__name__', '__package__', '__spec__', 'date', 'datetime', 'datetime_CAPI', 'sys', 'time', 'timedelta', 'timezone', 'tzinfo']\n"
     ]
    }
   ],
   "source": [
    "print(dir(datetime))"
   ]
  },
  {
   "cell_type": "code",
   "execution_count": 104,
   "id": "13587a67-db06-4fa4-bcf8-7ca71e5a3809",
   "metadata": {},
   "outputs": [
    {
     "data": {
      "text/plain": [
       "datetime.datetime(2024, 12, 25, 10, 2, 47, 727876)"
      ]
     },
     "execution_count": 104,
     "metadata": {},
     "output_type": "execute_result"
    }
   ],
   "source": [
    "start_time = datetime.datetime.now()\n",
    "start_time.replace(month = 12, day = 25)"
   ]
  },
  {
   "cell_type": "code",
   "execution_count": 107,
   "id": "500f2ed5-a05a-46d0-8e57-aa3b3aab2f66",
   "metadata": {},
   "outputs": [
    {
     "data": {
      "text/plain": [
       "datetime.datetime(2024, 12, 25, 10, 7, 50, 801598)"
      ]
     },
     "execution_count": 107,
     "metadata": {},
     "output_type": "execute_result"
    }
   ],
   "source": [
    "import datetime as x\n",
    "start_time = dt.datetime.now()\n",
    "start_time.replace(month = 12, day = 25)"
   ]
  },
  {
   "cell_type": "code",
   "execution_count": 108,
   "id": "a76f7ee0-bc88-4a53-8a63-187915db92ee",
   "metadata": {},
   "outputs": [
    {
     "name": "stdout",
     "output_type": "stream",
     "text": [
      "['__doc__', '__loader__', '__name__', '__package__', '__spec__', 'acos', 'acosh', 'asin', 'asinh', 'atan', 'atan2', 'atanh', 'cbrt', 'ceil', 'comb', 'copysign', 'cos', 'cosh', 'degrees', 'dist', 'e', 'erf', 'erfc', 'exp', 'exp2', 'expm1', 'fabs', 'factorial', 'floor', 'fmod', 'frexp', 'fsum', 'gamma', 'gcd', 'hypot', 'inf', 'isclose', 'isfinite', 'isinf', 'isnan', 'isqrt', 'lcm', 'ldexp', 'lgamma', 'log', 'log10', 'log1p', 'log2', 'modf', 'nan', 'nextafter', 'perm', 'pi', 'pow', 'prod', 'radians', 'remainder', 'sin', 'sinh', 'sqrt', 'tan', 'tanh', 'tau', 'trunc', 'ulp']\n"
     ]
    }
   ],
   "source": [
    "import math\n",
    "print(dir(math))"
   ]
  },
  {
   "cell_type": "code",
   "execution_count": 109,
   "id": "a6465510-a7f7-43de-9ca6-278cff48ca44",
   "metadata": {},
   "outputs": [
    {
     "name": "stdout",
     "output_type": "stream",
     "text": [
      "['Canvas', 'Pen', 'RawPen', 'RawTurtle', 'Screen', 'ScrolledCanvas', 'Shape', 'TK', 'TNavigator', 'TPen', 'Tbuffer', 'Terminator', 'Turtle', 'TurtleGraphicsError', 'TurtleScreen', 'TurtleScreenBase', 'Vec2D', '_CFG', '_LANGUAGE', '_Root', '_Screen', '_TurtleImage', '__all__', '__builtins__', '__cached__', '__doc__', '__file__', '__forwardmethods', '__func_body', '__loader__', '__methodDict', '__methods', '__name__', '__package__', '__spec__', '__stringBody', '_alias_list', '_make_global_funcs', '_screen_docrevise', '_tg_classes', '_tg_screen_functions', '_tg_turtle_functions', '_tg_utilities', '_turtle_docrevise', '_ver', 'addshape', 'back', 'backward', 'begin_fill', 'begin_poly', 'bgcolor', 'bgpic', 'bk', 'bye', 'circle', 'clear', 'clearscreen', 'clearstamp', 'clearstamps', 'clone', 'color', 'colormode', 'config_dict', 'deepcopy', 'degrees', 'delay', 'distance', 'done', 'dot', 'down', 'end_fill', 'end_poly', 'exitonclick', 'fd', 'fillcolor', 'filling', 'forward', 'get_poly', 'get_shapepoly', 'getcanvas', 'getmethparlist', 'getpen', 'getscreen', 'getshapes', 'getturtle', 'goto', 'heading', 'hideturtle', 'home', 'ht', 'inspect', 'isdown', 'isfile', 'isvisible', 'join', 'left', 'listen', 'lt', 'mainloop', 'math', 'mode', 'numinput', 'onclick', 'ondrag', 'onkey', 'onkeypress', 'onkeyrelease', 'onrelease', 'onscreenclick', 'ontimer', 'pd', 'pen', 'pencolor', 'pendown', 'pensize', 'penup', 'pos', 'position', 'pu', 'radians', 'read_docstrings', 'readconfig', 'register_shape', 'reset', 'resetscreen', 'resizemode', 'right', 'rt', 'screensize', 'seth', 'setheading', 'setpos', 'setposition', 'settiltangle', 'setundobuffer', 'setup', 'setworldcoordinates', 'setx', 'sety', 'shape', 'shapesize', 'shapetransform', 'shearfactor', 'showturtle', 'simpledialog', 'speed', 'split', 'st', 'stamp', 'sys', 'textinput', 'tilt', 'tiltangle', 'time', 'title', 'towards', 'tracer', 'turtles', 'turtlesize', 'types', 'undo', 'undobufferentries', 'up', 'update', 'warnings', 'width', 'window_height', 'window_width', 'write', 'write_docstringdict', 'xcor', 'ycor']\n"
     ]
    }
   ],
   "source": [
    "import turtle\n",
    "print(dir(turtle))"
   ]
  },
  {
   "cell_type": "code",
   "execution_count": null,
   "id": "85b8dce8-dc07-4032-a2f8-1fbe4d9ead63",
   "metadata": {},
   "outputs": [],
   "source": []
  }
 ],
 "metadata": {
  "kernelspec": {
   "display_name": "Python 3 (ipykernel)",
   "language": "python",
   "name": "python3"
  },
  "language_info": {
   "codemirror_mode": {
    "name": "ipython",
    "version": 3
   },
   "file_extension": ".py",
   "mimetype": "text/x-python",
   "name": "python",
   "nbconvert_exporter": "python",
   "pygments_lexer": "ipython3",
   "version": "3.11.7"
  }
 },
 "nbformat": 4,
 "nbformat_minor": 5
}
